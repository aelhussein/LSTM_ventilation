{
 "cells": [
  {
   "cell_type": "code",
   "execution_count": 1,
   "id": "022bd3bb",
   "metadata": {},
   "outputs": [
    {
     "name": "stderr",
     "output_type": "stream",
     "text": [
      "2022-05-18 11:16:11.688148: W tensorflow/stream_executor/platform/default/dso_loader.cc:64] Could not load dynamic library 'libcudart.so.11.0'; dlerror: libcudart.so.11.0: cannot open shared object file: No such file or directory; LD_LIBRARY_PATH: /opt/slurm/slurm-20.11.0/lib64:\n",
      "2022-05-18 11:16:11.688206: I tensorflow/stream_executor/cuda/cudart_stub.cc:29] Ignore above cudart dlerror if you do not have a GPU set up on your machine.\n"
     ]
    }
   ],
   "source": [
    "import torch\n",
    "import torch.nn as nn\n",
    "import torchvision\n",
    "import torchvision.transforms as transforms\n",
    "import numpy as np\n",
    "import copy\n",
    "from torchvision import models\n",
    "import torch.nn.functional as F\n",
    "from torch.autograd import Variable\n",
    "from sklearn import metrics\n",
    "import pandas as pd\n",
    "from sklearn.preprocessing import StandardScaler\n",
    "import matplotlib.pyplot as plt\n",
    "import seaborn as sns\n",
    "from deepctr_torch.layers.interaction import CrossNet\n",
    "from sklearn.calibration import calibration_curve\n",
    "from sklearn.metrics import confusion_matrix\n",
    "from datetime import timedelta\n",
    "from tableone import TableOne\n",
    "from sklearn.model_selection import train_test_split\n",
    "import sys\n",
    "import sklearn.neighbors._base\n",
    "sys.modules['sklearn.neighbors.base'] = sklearn.neighbors._base\n",
    "from missingpy import MissForest\n",
    "import warnings\n",
    "warnings.filterwarnings(\"ignore\")"
   ]
  },
  {
   "cell_type": "code",
   "execution_count": 2,
   "id": "728652c0",
   "metadata": {},
   "outputs": [],
   "source": [
    "path = '/gpfs/commons/groups/gursoy_lab/aelhussein/ML_project/'\n",
    "items = pd.read_csv(path+'1.0/icu/d_items.csv')\n",
    "df_timeseries= pd.read_csv(path + '1.0/small/dataset_sequential.csv', parse_dates = ['charttime', 'obs_window_start', 'obs_window_end'])"
   ]
  },
  {
   "cell_type": "code",
   "execution_count": 3,
   "id": "04c6ae6d",
   "metadata": {},
   "outputs": [],
   "source": [
    "df_timeseries['window'] = np.nan\n",
    "##put data into windows\n",
    "date_windows = [\n",
    "     df_timeseries['charttime'] <= df_timeseries['obs_window_start'] + timedelta(days = 3),\n",
    "     (df_timeseries['charttime'] > df_timeseries['obs_window_start'] + timedelta(days = 3)) &\n",
    "        (df_timeseries['charttime'] <= df_timeseries['obs_window_start'] + timedelta(days = 3.5)),\n",
    "     (df_timeseries['charttime'] > df_timeseries['obs_window_start'] + timedelta(days = 3.5)) &\n",
    "        (df_timeseries['charttime'] <= df_timeseries['obs_window_start'] + timedelta(days = 4)),\n",
    "     (df_timeseries['charttime'] > df_timeseries['obs_window_start'] + timedelta(days = 4)) &\n",
    "        (df_timeseries['charttime'] <= df_timeseries['obs_window_start'] + timedelta(days = 4.5))]\n",
    "\n",
    "values = [0,1,2,3]\n",
    "\n",
    "df_timeseries['window'] = np.select(date_windows, values)"
   ]
  },
  {
   "cell_type": "code",
   "execution_count": 9,
   "id": "f54cbe9b",
   "metadata": {},
   "outputs": [],
   "source": [
    "#filter itemids with good coverage\n",
    "df_window = df_timeseries[(df_timeseries['window'] == 2) & (df_timeseries['hadm_id'].isin(hadm_ids))]\n",
    "df_pivot = df_window.pivot_table(index = 'hadm_id', columns = 'itemid', values = 'valuenum', aggfunc = 'mean')\n",
    "consistent_itemids = list(df_pivot.columns[df_pivot.notna().sum(axis =0) / df_pivot.shape[0] >0.7])"
   ]
  },
  {
   "cell_type": "code",
   "execution_count": 11,
   "id": "c5be4f5b",
   "metadata": {},
   "outputs": [
    {
     "data": {
      "text/html": [
       "<div>\n",
       "<style scoped>\n",
       "    .dataframe tbody tr th:only-of-type {\n",
       "        vertical-align: middle;\n",
       "    }\n",
       "\n",
       "    .dataframe tbody tr th {\n",
       "        vertical-align: top;\n",
       "    }\n",
       "\n",
       "    .dataframe thead th {\n",
       "        text-align: right;\n",
       "    }\n",
       "</style>\n",
       "<table border=\"1\" class=\"dataframe\">\n",
       "  <thead>\n",
       "    <tr style=\"text-align: right;\">\n",
       "      <th></th>\n",
       "      <th>itemid</th>\n",
       "      <th>label</th>\n",
       "      <th>abbreviation</th>\n",
       "      <th>linksto</th>\n",
       "      <th>category</th>\n",
       "      <th>unitname</th>\n",
       "      <th>param_type</th>\n",
       "      <th>lownormalvalue</th>\n",
       "      <th>highnormalvalue</th>\n",
       "    </tr>\n",
       "  </thead>\n",
       "  <tbody>\n",
       "    <tr>\n",
       "      <th>1</th>\n",
       "      <td>220045</td>\n",
       "      <td>Heart Rate</td>\n",
       "      <td>HR</td>\n",
       "      <td>chartevents</td>\n",
       "      <td>Routine Vital Signs</td>\n",
       "      <td>bpm</td>\n",
       "      <td>Numeric</td>\n",
       "      <td>NaN</td>\n",
       "      <td>NaN</td>\n",
       "    </tr>\n",
       "    <tr>\n",
       "      <th>22</th>\n",
       "      <td>220179</td>\n",
       "      <td>Non Invasive Blood Pressure systolic</td>\n",
       "      <td>NBPs</td>\n",
       "      <td>chartevents</td>\n",
       "      <td>Routine Vital Signs</td>\n",
       "      <td>mmHg</td>\n",
       "      <td>Numeric</td>\n",
       "      <td>NaN</td>\n",
       "      <td>NaN</td>\n",
       "    </tr>\n",
       "    <tr>\n",
       "      <th>23</th>\n",
       "      <td>220180</td>\n",
       "      <td>Non Invasive Blood Pressure diastolic</td>\n",
       "      <td>NBPd</td>\n",
       "      <td>chartevents</td>\n",
       "      <td>Routine Vital Signs</td>\n",
       "      <td>mmHg</td>\n",
       "      <td>Numeric</td>\n",
       "      <td>NaN</td>\n",
       "      <td>NaN</td>\n",
       "    </tr>\n",
       "    <tr>\n",
       "      <th>26</th>\n",
       "      <td>220210</td>\n",
       "      <td>Respiratory Rate</td>\n",
       "      <td>RR</td>\n",
       "      <td>chartevents</td>\n",
       "      <td>Respiratory</td>\n",
       "      <td>insp/min</td>\n",
       "      <td>Numeric</td>\n",
       "      <td>NaN</td>\n",
       "      <td>NaN</td>\n",
       "    </tr>\n",
       "    <tr>\n",
       "      <th>33</th>\n",
       "      <td>220277</td>\n",
       "      <td>O2 saturation pulseoxymetry</td>\n",
       "      <td>SpO2</td>\n",
       "      <td>chartevents</td>\n",
       "      <td>Respiratory</td>\n",
       "      <td>%</td>\n",
       "      <td>Numeric</td>\n",
       "      <td>NaN</td>\n",
       "      <td>NaN</td>\n",
       "    </tr>\n",
       "    <tr>\n",
       "      <th>63</th>\n",
       "      <td>220739</td>\n",
       "      <td>GCS - Eye Opening</td>\n",
       "      <td>Eye Opening</td>\n",
       "      <td>chartevents</td>\n",
       "      <td>Neurological</td>\n",
       "      <td>NaN</td>\n",
       "      <td>Text</td>\n",
       "      <td>NaN</td>\n",
       "      <td>NaN</td>\n",
       "    </tr>\n",
       "    <tr>\n",
       "      <th>285</th>\n",
       "      <td>223900</td>\n",
       "      <td>GCS - Verbal Response</td>\n",
       "      <td>Verbal Response</td>\n",
       "      <td>chartevents</td>\n",
       "      <td>Neurological</td>\n",
       "      <td>NaN</td>\n",
       "      <td>Text</td>\n",
       "      <td>NaN</td>\n",
       "      <td>NaN</td>\n",
       "    </tr>\n",
       "    <tr>\n",
       "      <th>286</th>\n",
       "      <td>223901</td>\n",
       "      <td>GCS - Motor Response</td>\n",
       "      <td>Motor Response</td>\n",
       "      <td>chartevents</td>\n",
       "      <td>Neurological</td>\n",
       "      <td>NaN</td>\n",
       "      <td>Text</td>\n",
       "      <td>NaN</td>\n",
       "      <td>NaN</td>\n",
       "    </tr>\n",
       "  </tbody>\n",
       "</table>\n",
       "</div>"
      ],
      "text/plain": [
       "     itemid                                  label     abbreviation  \\\n",
       "1    220045                             Heart Rate               HR   \n",
       "22   220179   Non Invasive Blood Pressure systolic             NBPs   \n",
       "23   220180  Non Invasive Blood Pressure diastolic             NBPd   \n",
       "26   220210                       Respiratory Rate               RR   \n",
       "33   220277            O2 saturation pulseoxymetry             SpO2   \n",
       "63   220739                      GCS - Eye Opening      Eye Opening   \n",
       "285  223900                  GCS - Verbal Response  Verbal Response   \n",
       "286  223901                   GCS - Motor Response   Motor Response   \n",
       "\n",
       "         linksto             category  unitname param_type  lownormalvalue  \\\n",
       "1    chartevents  Routine Vital Signs       bpm    Numeric             NaN   \n",
       "22   chartevents  Routine Vital Signs      mmHg    Numeric             NaN   \n",
       "23   chartevents  Routine Vital Signs      mmHg    Numeric             NaN   \n",
       "26   chartevents          Respiratory  insp/min    Numeric             NaN   \n",
       "33   chartevents          Respiratory         %    Numeric             NaN   \n",
       "63   chartevents         Neurological       NaN       Text             NaN   \n",
       "285  chartevents         Neurological       NaN       Text             NaN   \n",
       "286  chartevents         Neurological       NaN       Text             NaN   \n",
       "\n",
       "     highnormalvalue  \n",
       "1                NaN  \n",
       "22               NaN  \n",
       "23               NaN  \n",
       "26               NaN  \n",
       "33               NaN  \n",
       "63               NaN  \n",
       "285              NaN  \n",
       "286              NaN  "
      ]
     },
     "execution_count": 11,
     "metadata": {},
     "output_type": "execute_result"
    }
   ],
   "source": [
    "itemids = [220045, 220179, 220180, 220210, 220277, 220739, 223900, 223901]\n",
    "items[items['itemid'].isin(itemids)]"
   ]
  },
  {
   "cell_type": "code",
   "execution_count": 12,
   "id": "747628f5",
   "metadata": {},
   "outputs": [
    {
     "data": {
      "text/html": [
       "<div>\n",
       "<style scoped>\n",
       "    .dataframe tbody tr th:only-of-type {\n",
       "        vertical-align: middle;\n",
       "    }\n",
       "\n",
       "    .dataframe tbody tr th {\n",
       "        vertical-align: top;\n",
       "    }\n",
       "\n",
       "    .dataframe thead th {\n",
       "        text-align: right;\n",
       "    }\n",
       "</style>\n",
       "<table border=\"1\" class=\"dataframe\">\n",
       "  <thead>\n",
       "    <tr style=\"text-align: right;\">\n",
       "      <th></th>\n",
       "      <th>subject_id</th>\n",
       "      <th>hadm_id</th>\n",
       "      <th>charttime</th>\n",
       "      <th>itemid</th>\n",
       "      <th>value</th>\n",
       "      <th>valuenum</th>\n",
       "      <th>valueuom</th>\n",
       "      <th>obs_window_start</th>\n",
       "      <th>obs_window_end</th>\n",
       "      <th>outcome</th>\n",
       "      <th>window</th>\n",
       "    </tr>\n",
       "  </thead>\n",
       "  <tbody>\n",
       "    <tr>\n",
       "      <th>0</th>\n",
       "      <td>10017851</td>\n",
       "      <td>23415994</td>\n",
       "      <td>2115-11-01 20:40:00</td>\n",
       "      <td>220045</td>\n",
       "      <td>93.0</td>\n",
       "      <td>93.0</td>\n",
       "      <td>bpm</td>\n",
       "      <td>2115-11-01 08:39:57</td>\n",
       "      <td>2115-11-05 20:39:57</td>\n",
       "      <td>0</td>\n",
       "      <td>0</td>\n",
       "    </tr>\n",
       "    <tr>\n",
       "      <th>1</th>\n",
       "      <td>10017851</td>\n",
       "      <td>23415994</td>\n",
       "      <td>2115-11-01 20:40:00</td>\n",
       "      <td>220210</td>\n",
       "      <td>24.0</td>\n",
       "      <td>24.0</td>\n",
       "      <td>insp/min</td>\n",
       "      <td>2115-11-01 08:39:57</td>\n",
       "      <td>2115-11-05 20:39:57</td>\n",
       "      <td>0</td>\n",
       "      <td>0</td>\n",
       "    </tr>\n",
       "    <tr>\n",
       "      <th>2</th>\n",
       "      <td>10017851</td>\n",
       "      <td>23415994</td>\n",
       "      <td>2115-11-01 20:40:00</td>\n",
       "      <td>220277</td>\n",
       "      <td>97.0</td>\n",
       "      <td>97.0</td>\n",
       "      <td>%</td>\n",
       "      <td>2115-11-01 08:39:57</td>\n",
       "      <td>2115-11-05 20:39:57</td>\n",
       "      <td>0</td>\n",
       "      <td>0</td>\n",
       "    </tr>\n",
       "    <tr>\n",
       "      <th>3</th>\n",
       "      <td>10017851</td>\n",
       "      <td>23415994</td>\n",
       "      <td>2115-11-01 20:43:00</td>\n",
       "      <td>220179</td>\n",
       "      <td>107.0</td>\n",
       "      <td>107.0</td>\n",
       "      <td>mmHg</td>\n",
       "      <td>2115-11-01 08:39:57</td>\n",
       "      <td>2115-11-05 20:39:57</td>\n",
       "      <td>0</td>\n",
       "      <td>0</td>\n",
       "    </tr>\n",
       "    <tr>\n",
       "      <th>4</th>\n",
       "      <td>10017851</td>\n",
       "      <td>23415994</td>\n",
       "      <td>2115-11-01 20:43:00</td>\n",
       "      <td>220180</td>\n",
       "      <td>55.0</td>\n",
       "      <td>55.0</td>\n",
       "      <td>mmHg</td>\n",
       "      <td>2115-11-01 08:39:57</td>\n",
       "      <td>2115-11-05 20:39:57</td>\n",
       "      <td>0</td>\n",
       "      <td>0</td>\n",
       "    </tr>\n",
       "  </tbody>\n",
       "</table>\n",
       "</div>"
      ],
      "text/plain": [
       "   subject_id   hadm_id           charttime  itemid  value  valuenum  \\\n",
       "0    10017851  23415994 2115-11-01 20:40:00  220045   93.0      93.0   \n",
       "1    10017851  23415994 2115-11-01 20:40:00  220210   24.0      24.0   \n",
       "2    10017851  23415994 2115-11-01 20:40:00  220277   97.0      97.0   \n",
       "3    10017851  23415994 2115-11-01 20:43:00  220179  107.0     107.0   \n",
       "4    10017851  23415994 2115-11-01 20:43:00  220180   55.0      55.0   \n",
       "\n",
       "   valueuom    obs_window_start      obs_window_end  outcome  window  \n",
       "0       bpm 2115-11-01 08:39:57 2115-11-05 20:39:57        0       0  \n",
       "1  insp/min 2115-11-01 08:39:57 2115-11-05 20:39:57        0       0  \n",
       "2         % 2115-11-01 08:39:57 2115-11-05 20:39:57        0       0  \n",
       "3      mmHg 2115-11-01 08:39:57 2115-11-05 20:39:57        0       0  \n",
       "4      mmHg 2115-11-01 08:39:57 2115-11-05 20:39:57        0       0  "
      ]
     },
     "execution_count": 12,
     "metadata": {},
     "output_type": "execute_result"
    }
   ],
   "source": [
    "df_timeseries = df_timeseries[df_timeseries['itemid'].isin(itemids)]\n",
    "df_timeseries.head()"
   ]
  },
  {
   "cell_type": "code",
   "execution_count": 13,
   "id": "3ced42aa",
   "metadata": {},
   "outputs": [],
   "source": [
    "#find hadmids with records across all windows\n",
    "hadm_ids = list(set.intersection(*list(map(set,df_timeseries.groupby('window')['hadm_id'].unique()))))"
   ]
  },
  {
   "cell_type": "code",
   "execution_count": 16,
   "id": "f5b225e2",
   "metadata": {},
   "outputs": [],
   "source": [
    "#impute missing data\n",
    "imputer = MissForest()"
   ]
  },
  {
   "cell_type": "code",
   "execution_count": 388,
   "id": "6e18c77a",
   "metadata": {},
   "outputs": [
    {
     "data": {
      "text/plain": [
       "(4068, 8)"
      ]
     },
     "execution_count": 388,
     "metadata": {},
     "output_type": "execute_result"
    }
   ],
   "source": [
    "np.array(df_pivot).shape"
   ]
  },
  {
   "cell_type": "code",
   "execution_count": 392,
   "id": "9a004739",
   "metadata": {},
   "outputs": [],
   "source": [
    "def gcs_binarisation(df):\n",
    "    df = pd.DataFrame(df, columns = df_pivot.columns, index = df_pivot.index)\n",
    "    ##sum gcs\n",
    "    gcs = [223900,223901,220739]\n",
    "    df['gcs'] = df.loc[:,gcs[0]] + df.loc[:,gcs[1]] + df.loc[:,gcs[2]]\n",
    "    df_gcs = df.drop(columns = gcs)\n",
    "    \n",
    "    ##bucket gcs\n",
    "    bins = [0,5,8,12,15]\n",
    "    labels = [0,1,2,3]\n",
    "    df_gcs['gcs_cat'] = pd.cut(df_gcs['gcs'], bins, labels = labels)\n",
    "    df_gcs.drop('gcs', axis = 1, inplace = True)\n",
    "    df_gcs = pd.get_dummies(df_gcs, columns = ['gcs_cat'], drop_first = True)\n",
    "    df_gcs = df_gcs.rename(columns = {'gcs_cat_1': 'gcs_5-8', 'gcs_cat_2': 'gcs_9-12','gcs_cat_3': 'gcs_13-15'})\n",
    "    return np.array(df_gcs)"
   ]
  },
  {
   "cell_type": "code",
   "execution_count": 396,
   "id": "5c9dee9f",
   "metadata": {
    "scrolled": true
   },
   "outputs": [
    {
     "name": "stdout",
     "output_type": "stream",
     "text": [
      "Iteration: 0\n",
      "Iteration: 1\n",
      "Iteration: 2\n",
      "Iteration: 3\n",
      "Iteration: 4\n",
      "Iteration: 0\n",
      "Iteration: 1\n",
      "Iteration: 0\n",
      "Iteration: 1\n",
      "Iteration: 2\n",
      "Iteration: 3\n",
      "Iteration: 4\n",
      "Iteration: 5\n",
      "Iteration: 0\n",
      "Iteration: 1\n",
      "Iteration: 2\n",
      "Iteration: 3\n",
      "Iteration: 4\n",
      "Iteration: 5\n",
      "Iteration: 6\n"
     ]
    }
   ],
   "source": [
    "tensor = torch.zeros(len(hadm_ids),8,1, dtype=torch.int32)\n",
    "for i in range(4):\n",
    "    df_window = df_timeseries[(df_timeseries['window'] == i) & (df_timeseries['hadm_id'].isin(hadm_ids))]\n",
    "    df_pivot = df_window.pivot_table(index = 'hadm_id', columns = 'itemid', values = 'valuenum', aggfunc = 'mean')\n",
    "    df_pivot = df_pivot.loc[hadm_ids]\n",
    "    df_imputed = imputer.fit_transform(df_pivot)\n",
    "    df_imputed = gcs_binarisation(df_imputed)\n",
    "    df_tensor = Variable(torch.Tensor(df_imputed))\n",
    "    tensor = torch.cat((tensor, df_tensor.unsqueeze(-1).expand(len(hadm_ids),8,1)),2)\n",
    "tensor = tensor[:,:,1:]"
   ]
  },
  {
   "cell_type": "code",
   "execution_count": 180,
   "id": "86867941",
   "metadata": {},
   "outputs": [],
   "source": [
    "##get the outcomes for the dataset\n",
    "outcomes = df_timeseries[df_timeseries['hadm_id'].isin(hadm_ids)].groupby('hadm_id')['outcome'].first()\n",
    "outcomes = outcomes.loc[hadm_ids]\n",
    "y_tensor = Variable(torch.Tensor(outcomes.values))"
   ]
  },
  {
   "cell_type": "code",
   "execution_count": 463,
   "id": "b6c25687",
   "metadata": {},
   "outputs": [],
   "source": [
    "def tensorScaler(train, test):\n",
    "    mean = train.mean(0, keepdim=True)[:,:,:5]\n",
    "    std = train.std(0, unbiased=False, keepdim=True)[:,:,:5]\n",
    "    ##apply to train and test set\n",
    "    train_s = train[:,:,:5] - mean\n",
    "    train_s /= std\n",
    "    train_s = torch.cat((train_s, train[:,:,5:]), dim = 2)\n",
    "    test_s = test[:,:,:5] - mean\n",
    "    test_s /= std\n",
    "    test_s = torch.cat((test_s, test[:,:,5:]), dim = 2)\n",
    "    return train_s, test_s"
   ]
  },
  {
   "cell_type": "code",
   "execution_count": 470,
   "id": "108f5129",
   "metadata": {},
   "outputs": [],
   "source": [
    "tensor_lstm = torch.transpose(tensor, 1, 2) #reshape \n",
    "##create train and test set\n",
    "train_size = int(0.8 * len(tensor_lstm))\n",
    "test_size = len(tensor_lstm) - train_size\n",
    "train_ind, test_ind = torch.utils.data.random_split(tensor_lstm, [train_size, test_size],\n",
    "                                                            generator=torch.Generator().manual_seed(42))\n",
    "\n",
    "train_dataset, test_dataset = tensor_lstm[train_ind.indices], tensor_lstm[test_ind.indices]\n",
    "train_y, test_y = y_tensor[train_ind.indices], y_tensor[test_ind.indices]\n",
    "\n",
    "train_dataset, test_dataset = tensorScaler(train_dataset, test_dataset)"
   ]
  },
  {
   "cell_type": "code",
   "execution_count": 524,
   "id": "79034889",
   "metadata": {},
   "outputs": [],
   "source": [
    "class LSTM1(nn.Module):\n",
    "    def __init__(self, num_classes, input_size, hidden_size, num_layers, seq_length):\n",
    "        super(LSTM1, self).__init__()\n",
    "        self.num_classes = num_classes #number of classes\n",
    "        self.num_layers = num_layers #number of layers\n",
    "        self.input_size = input_size #input size\n",
    "        self.hidden_size = hidden_size #hidden state\n",
    "        self.seq_length = seq_length #sequence length\n",
    "\n",
    "        self.lstm = nn.LSTM(input_size=input_size, hidden_size=hidden_size,\n",
    "                          num_layers=num_layers, batch_first=True) #lstm\n",
    "        self.fc_1 =  nn.Linear(hidden_size, 32) #fully connected 1\n",
    "        self.fc_2 =  nn.Linear(32, 12) #fully connected 1\n",
    "        self.fc_3 = nn.Linear(12, 1)\n",
    "        self.fc = nn.Sigmoid() #fully connected last layer\n",
    "\n",
    "        self.relu = nn.ReLU()\n",
    "    def forward(self,x):\n",
    "            h_0 = Variable(torch.zeros(self.num_layers, x.size(0), self.hidden_size)) #hidden state\n",
    "            c_0 = Variable(torch.zeros(self.num_layers, x.size(0), self.hidden_size)) #internal state\n",
    "            # Propagate input through LSTM\n",
    "            output, (hn, cn) = self.lstm(x, (h_0, c_0)) #lstm with input, hidden, and internal state\n",
    "            out = output[:,-1,:] #reshaping the data for Dense layer next\n",
    "            out = self.relu(out)\n",
    "            out = self.fc_1(out) #first Dense\n",
    "            out = self.relu(out) #relu\n",
    "            out = self.fc_2(out) #2nd dense\n",
    "            out = self.relu(out) #relu\n",
    "            out = self.fc_3(out) #3rd dense\n",
    "            out = self.fc(out) #Final Output\n",
    "            return out"
   ]
  },
  {
   "cell_type": "code",
   "execution_count": 548,
   "id": "cb282f67",
   "metadata": {},
   "outputs": [],
   "source": [
    "num_epochs = 10001 #100000 epochs\n",
    "learning_rate = 0.001 #0.001 lr\n",
    "input_size = 8 #number of features\n",
    "hidden_size = 4 #number of features in hidden state\n",
    "num_layers = 1 #number of stacked lstm layers\n",
    "num_classes = 1 #number of output classes \n",
    "\n",
    "lstm1 = LSTM1(num_classes, input_size, hidden_size, num_layers, 4) #our lstm class \n",
    "\n",
    "criterion = torch.nn.BCELoss() \n",
    "optimizer = torch.optim.Adam(lstm1.parameters(), lr=learning_rate) \n",
    "best_AUC = 0"
   ]
  },
  {
   "cell_type": "code",
   "execution_count": 549,
   "id": "4747b462",
   "metadata": {
    "scrolled": false
   },
   "outputs": [
    {
     "name": "stdout",
     "output_type": "stream",
     "text": [
      "Epoch: 0, loss: 0.71283\n",
      "Train: 0.45469951919435514\n",
      "Test: 0.502378441923599\n",
      "Epoch: 1000, loss: 0.48983\n",
      "Train: 0.8342371792735502\n",
      "Test: 0.8102336629823541\n",
      "Epoch: 2000, loss: 0.46452\n",
      "Train: 0.8545631091492437\n",
      "Test: 0.7838738607717666\n",
      "Epoch: 3000, loss: 0.45422\n",
      "Train: 0.862465954294682\n",
      "Test: 0.7797896063602869\n",
      "Epoch: 4000, loss: 0.44667\n",
      "Train: 0.8677557252833481\n",
      "Test: 0.7776020457630405\n",
      "Epoch: 5000, loss: 0.43906\n",
      "Train: 0.873548418370593\n",
      "Test: 0.7696456273026953\n",
      "Epoch: 6000, loss: 0.43232\n",
      "Train: 0.8783102726383111\n",
      "Test: 0.7667945268566997\n",
      "Epoch: 7000, loss: 0.42668\n",
      "Train: 0.8818004308164\n",
      "Test: 0.7668036164436687\n",
      "Epoch: 8000, loss: 0.42252\n",
      "Train: 0.8842934550445207\n",
      "Test: 0.7698092398681404\n",
      "Epoch: 9000, loss: 0.41935\n",
      "Train: 0.8859605206152616\n",
      "Test: 0.7721179949583091\n",
      "Epoch: 10000, loss: 0.41728\n",
      "Train: 0.887029608781141\n",
      "Test: 0.7718513670738802\n"
     ]
    }
   ],
   "source": [
    "for epoch in range(num_epochs):\n",
    "    outputs = lstm1.forward(train_dataset) #forward pass\n",
    "    optimizer.zero_grad() #caluclate the gradient, manually setting to 0\n",
    "\n",
    "    # obtain the loss function\n",
    "    loss = criterion(outputs.squeeze(),train_y)\n",
    "\n",
    "    loss.backward() #calculates the loss of the loss function\n",
    "\n",
    "    optimizer.step() #improve from loss, i.e backprop\n",
    "    if epoch % 1000 == 0:\n",
    "        print(\"Epoch: %d, loss: %1.5f\" % (epoch, loss.item())) \n",
    "        fpr, tpr, thresholds = metrics.roc_curve(train_y.detach().numpy(), outputs.detach().numpy())\n",
    "        AUC = metrics.auc(fpr, tpr)\n",
    "        print('Train:', AUC)\n",
    "        \n",
    "        with torch.no_grad():\n",
    "            outputs = lstm1.forward(test_dataset)\n",
    "            loss = criterion(outputs.squeeze(), test_y)\n",
    "\n",
    "            #calculate AUC for best epoch\n",
    "            fpr, tpr, thresholds = metrics.roc_curve(test_y.detach().numpy(), outputs.detach().numpy())\n",
    "            AUC = metrics.auc(fpr, tpr)\n",
    "            if AUC > best_AUC:\n",
    "                best_AUC = AUC\n",
    "                fpr_best, tpr_best, thresholds_best = fpr, tpr, thresholds\n",
    "                predicted = outputs.detach().numpy()\n",
    "                \n",
    "            print('Test:', AUC)"
   ]
  },
  {
   "cell_type": "code",
   "execution_count": 551,
   "id": "4b12aaf4",
   "metadata": {},
   "outputs": [
    {
     "data": {
      "image/png": "[encoded data removed]",
      "text/plain": [
       "<Figure size 432x288 with 1 Axes>"
      ]
     },
     "metadata": {},
     "output_type": "display_data"
    }
   ],
   "source": [
    "##plot results\n",
    "sns.set_theme()\n",
    "plt.plot(fpr_best,tpr_best, label=\"AUC=\"+str(round(best_AUC,2)))\n",
    "plt.plot([0,1],[0,1], linestyle = '--', color = 'r')\n",
    "plt.ylabel('True Positive Rate')\n",
    "plt.xlabel('False Positive Rate')\n",
    "plt.legend()\n",
    "plt.title('AUC-ROC')\n",
    "plt.show()"
   ]
  },
  {
   "cell_type": "code",
   "execution_count": 552,
   "id": "90da99cb",
   "metadata": {},
   "outputs": [
    {
     "data": {
      "image/png": "[encoded data removed]",
      "text/plain": [
       "<Figure size 432x288 with 1 Axes>"
      ]
     },
     "metadata": {},
     "output_type": "display_data"
    }
   ],
   "source": [
    "##calibration plot\n",
    "prob_true, prob_pred = calibration_curve(test_y.detach().numpy(),predicted, n_bins=5)\n",
    "sns.set_theme()\n",
    "plt.plot(prob_true, prob_pred)\n",
    "plt.plot([0,1],[0,1], linestyle = '--', color = 'r', label = 'Perfect calibration')\n",
    "plt.ylabel('True')\n",
    "plt.xlabel('Predicted')\n",
    "plt.legend()\n",
    "plt.title('Calibration_plot')\n",
    "plt.show()"
   ]
  },
  {
   "cell_type": "markdown",
   "id": "a6e8adc4",
   "metadata": {},
   "source": [
    "## NN"
   ]
  },
  {
   "cell_type": "code",
   "execution_count": 446,
   "id": "bb795c4e",
   "metadata": {},
   "outputs": [],
   "source": [
    "class Feedforward(torch.nn.Module):\n",
    "    def __init__(self, input_size, hidden_size):\n",
    "            super(Feedforward, self).__init__()\n",
    "            self.input_size = input_size\n",
    "            self.hidden_size  = hidden_size\n",
    "            self.fc1 = torch.nn.Linear(self.input_size, self.hidden_size[0])\n",
    "            self.relu1 = torch.nn.ReLU()\n",
    "            self.fc2 = torch.nn.Linear(self.hidden_size[0], self.hidden_size[1])\n",
    "            self.relu2 = torch.nn.ReLU()\n",
    "            self.fc3 = torch.nn.Linear(self.hidden_size[1], self.hidden_size[2])\n",
    "            self.relu3 = torch.nn.ReLU()\n",
    "            self.fc4 = torch.nn.Linear(self.hidden_size[2], 1)\n",
    "            self.sigmoid = torch.nn.Sigmoid()\n",
    "            \n",
    "            self.dropout = nn.Dropout(0.5)\n",
    "        \n",
    "    def forward(self, x):\n",
    "            hidden = self.fc1(x)\n",
    "            relu = self.relu1(hidden)\n",
    "            relu = self.dropout(relu)\n",
    "            hidden = self.fc2(relu)\n",
    "            relu = self.relu2(hidden)\n",
    "            relu = self.dropout(relu)\n",
    "            hidden = self.fc3(relu)\n",
    "            relu = self.relu3(hidden)\n",
    "            relu = self.dropout(relu)\n",
    "            output = self.fc4(relu)\n",
    "            output = self.sigmoid(output)\n",
    "            return output"
   ]
  },
  {
   "cell_type": "code",
   "execution_count": 449,
   "id": "82417c5f",
   "metadata": {},
   "outputs": [],
   "source": [
    "train_dataset_nn, test_dataset_nn = train_dataset[:,-1,:], test_dataset[:,-1,:]\n",
    "train_y_nn, test_y_nn = y_tensor[train_ind.indices], y_tensor[test_ind.indices]"
   ]
  },
  {
   "cell_type": "code",
   "execution_count": 450,
   "id": "13a6902b",
   "metadata": {},
   "outputs": [],
   "source": [
    "## initialize model\n",
    "model = Feedforward(train_dataset_nn.shape[1], [32,24,12])\n",
    "criterion = torch.nn.BCELoss()\n",
    "optimizer = torch.optim.Adam(model.parameters(), lr = 0.001, weight_decay = 0.0005)\n",
    "\n",
    "## of steps to take\n",
    "total_step = train_dataset_nn.shape[0]\n",
    "\n",
    "num_epochs = 1000"
   ]
  },
  {
   "cell_type": "code",
   "execution_count": 535,
   "id": "1006bf15",
   "metadata": {},
   "outputs": [
    {
     "name": "stdout",
     "output_type": "stream",
     "text": [
      "Epoch: 0, loss: 0.55915\n",
      "Train: 0.7818198584546961\n",
      "Test: 0.7657674035291837\n",
      "Epoch: 100, loss: 0.56546\n",
      "Train: 0.7764498017093292\n",
      "Test: 0.7547780928834593\n",
      "Epoch: 200, loss: 0.55871\n",
      "Train: 0.7788778777899301\n",
      "Test: 0.7560718440954042\n",
      "Epoch: 300, loss: 0.56526\n",
      "Train: 0.771067058299578\n",
      "Test: 0.7689426992437464\n",
      "Epoch: 400, loss: 0.58089\n",
      "Train: 0.7851195273138203\n",
      "Test: 0.7792199922435524\n",
      "Epoch: 500, loss: 0.56543\n",
      "Train: 0.7740005180703546\n",
      "Test: 0.7582109268954819\n",
      "Epoch: 600, loss: 0.56039\n",
      "Train: 0.7783694644485579\n",
      "Test: 0.7658067917393834\n",
      "Epoch: 700, loss: 0.56153\n",
      "Train: 0.7794696065391992\n",
      "Test: 0.7487819953461314\n",
      "Epoch: 800, loss: 0.55705\n",
      "Train: 0.7772952637462849\n",
      "Test: 0.7604106069420207\n",
      "Epoch: 900, loss: 0.55727\n",
      "Train: 0.7788199357108017\n",
      "Test: 0.7590108105487687\n",
      "Epoch: 1000, loss: 0.56115\n",
      "Train: 0.7818232668122919\n",
      "Test: 0.747239795423696\n"
     ]
    }
   ],
   "source": [
    "for epoch in range(num_epochs):\n",
    "    outputs = model(train_dataset_nn) #forward pass\n",
    "    optimizer.zero_grad() #caluclate the gradient, manually setting to 0\n",
    "\n",
    "    # obtain the loss function\n",
    "    loss = criterion(outputs.squeeze(),train_y_nn)\n",
    "\n",
    "    loss.backward() #calculates the loss of the loss function\n",
    "\n",
    "    optimizer.step() #improve from loss, i.e backprop\n",
    "    if epoch % 100 == 0:\n",
    "        print(\"Epoch: %d, loss: %1.5f\" % (epoch, loss.item())) \n",
    "        fpr, tpr, thresholds = metrics.roc_curve(train_y_nn.detach().numpy(), outputs.detach().numpy())\n",
    "        AUC = metrics.auc(fpr, tpr)\n",
    "        print('Train:', AUC)\n",
    "        \n",
    "        with torch.no_grad():\n",
    "            outputs = model(test_dataset_nn)\n",
    "            loss = criterion(outputs.squeeze(), test_y_nn)\n",
    "\n",
    "            #calculate AUC for best epoch\n",
    "            fpr, tpr, thresholds = metrics.roc_curve(test_y_nn.detach().numpy(), outputs.detach().numpy())\n",
    "            AUC = metrics.auc(fpr, tpr)\n",
    "            print('Test:', AUC)"
   ]
  },
  {
   "cell_type": "markdown",
   "id": "42634368",
   "metadata": {},
   "source": [
    "## RF check"
   ]
  },
  {
   "cell_type": "code",
   "execution_count": null,
   "id": "0ac1ff04",
   "metadata": {},
   "outputs": [],
   "source": [
    "from sklearn.ensemble import RandomForestClassifier"
   ]
  },
  {
   "cell_type": "code",
   "execution_count": 505,
   "id": "e59b6c7a",
   "metadata": {},
   "outputs": [],
   "source": [
    "train_dataset_rf, test_dataset_rf = train_dataset[:,-1,:], test_dataset[:,-1,:]\n",
    "train_y_rf, test_y_rf = y_tensor[train_ind.indices], y_tensor[test_ind.indices]"
   ]
  },
  {
   "cell_type": "code",
   "execution_count": 536,
   "id": "9289733a",
   "metadata": {},
   "outputs": [
    {
     "data": {
      "text/plain": [
       "0.7805652511149892"
      ]
     },
     "execution_count": 536,
     "metadata": {},
     "output_type": "execute_result"
    }
   ],
   "source": [
    "clf = RandomForestClassifier(max_depth=8, random_state=0)\n",
    "clf.fit(train_dataset_rf, train_y_rf)\n",
    "fpr, tpr, thresholds = metrics.roc_curve(test_y_rf, clf.predict_proba(test_dataset_rf)[:,1])\n",
    "AUC = metrics.auc(fpr, tpr)\n",
    "AUC"
   ]
  }
 ],
 "metadata": {
  "kernelspec": {
   "display_name": "Python 3 (ipykernel)",
   "language": "python",
   "name": "python3"
  },
  "language_info": {
   "codemirror_mode": {
    "name": "ipython",
    "version": 3
   },
   "file_extension": ".py",
   "mimetype": "text/x-python",
   "name": "python",
   "nbconvert_exporter": "python",
   "pygments_lexer": "ipython3",
   "version": "3.9.7"
  }
 },
 "nbformat": 4,
 "nbformat_minor": 5
}
